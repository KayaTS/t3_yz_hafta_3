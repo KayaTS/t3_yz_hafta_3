{
 "metadata": {
  "language_info": {
   "codemirror_mode": {
    "name": "ipython",
    "version": 3
   },
   "file_extension": ".py",
   "mimetype": "text/x-python",
   "name": "python",
   "nbconvert_exporter": "python",
   "pygments_lexer": "ipython3",
   "version": "3.7.4-final"
  },
  "orig_nbformat": 2,
  "kernelspec": {
   "name": "python_defaultSpec_1600513251772",
   "display_name": "Python 3.7.4 64-bit ('base': conda)"
  }
 },
 "nbformat": 4,
 "nbformat_minor": 2,
 "cells": [
  {
   "cell_type": "code",
   "execution_count": null,
   "metadata": {},
   "outputs": [],
   "source": [
    "import numpy as np\n",
    "import matplotlib.pyplot as plt\n",
    "import math\n",
    "import numpy \n",
    "\n",
    "from sklearn.metrics import silhouette_score\n",
    "from sklearn import cluster, datasets, mixture\n",
    "from sklearn.neighbors import kneighbors_graph\n",
    "\n",
    "\n",
    "# we take the first array as the second array has the cluster labels\n",
    "noktalar = datasets.make_circles(n_samples=1000, factor=.5, noise=.05)[0]\n",
    "\n"
   ]
  },
  {
   "cell_type": "code",
   "execution_count": null,
   "metadata": {},
   "outputs": [],
   "source": [
    "plt.scatter(noktalar[:,0], noktalar[:,1])"
   ]
  },
  {
   "cell_type": "code",
   "execution_count": null,
   "metadata": {},
   "outputs": [],
   "source": [
    "from sklearn.cluster import KMeans\n",
    "kmeans = KMeans(n_clusters=2)\n",
    "kmeans.fit(noktalar)\n",
    "y = kmeans.fit_predict(noktalar)"
   ]
  },
  {
   "cell_type": "code",
   "execution_count": null,
   "metadata": {},
   "outputs": [],
   "source": [
    "for idx,color in enumerate(['green','lightblue','orange','purple','teal']):\n",
    "    plt.scatter(\n",
    "        noktalar[y ==idx,0], \n",
    "        noktalar[y == idx,1], \n",
    "        s=20, \n",
    "        c=color\n",
    "    )\n"
   ]
  },
  {
   "cell_type": "code",
   "execution_count": null,
   "metadata": {},
   "outputs": [],
   "source": [
    "noktalar_circ_domain = []\n",
    "for nokta in noktalar:\n",
    "    r = math.sqrt(nokta[0]**2 + nokta[1]**2) \n",
    "    theta = math.atan2(nokta[0]**2, nokta[1]**2)\n",
    "    noktalar_circ_domain.append((r,theta))\n",
    "\n",
    "noktalar_circ_domain = numpy.array(noktalar_circ_domain)"
   ]
  },
  {
   "cell_type": "code",
   "execution_count": null,
   "metadata": {},
   "outputs": [],
   "source": [
    "plt.scatter(noktalar_circ_domain[:,0], noktalar_circ_domain[:,1])"
   ]
  },
  {
   "cell_type": "code",
   "execution_count": null,
   "metadata": {},
   "outputs": [],
   "source": [
    "from sklearn.cluster import KMeans\n",
    "kmeans = KMeans(n_clusters=2)\n",
    "kmeans.fit(noktalar_circ_domain)\n",
    "y = kmeans.fit_predict(noktalar_circ_domain)"
   ]
  },
  {
   "cell_type": "code",
   "execution_count": null,
   "metadata": {},
   "outputs": [],
   "source": [
    "for idx,color in enumerate(['green','lightblue','orange','purple','teal']):\n",
    "    plt.scatter(\n",
    "        noktalar[y ==idx,0], \n",
    "        noktalar[y == idx,1], \n",
    "        s=20, \n",
    "        c=color\n",
    "    )"
   ]
  },
  {
   "cell_type": "code",
   "execution_count": null,
   "metadata": {},
   "outputs": [],
   "source": []
  }
 ]
}