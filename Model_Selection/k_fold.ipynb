{
 "metadata": {
  "language_info": {
   "codemirror_mode": {
    "name": "ipython",
    "version": 3
   },
   "file_extension": ".py",
   "mimetype": "text/x-python",
   "name": "python",
   "nbconvert_exporter": "python",
   "pygments_lexer": "ipython3",
   "version": "3.7.4-final"
  },
  "orig_nbformat": 2,
  "kernelspec": {
   "name": "python_defaultSpec_1600376717393",
   "display_name": "Python 3.7.4 64-bit ('base': conda)"
  }
 },
 "nbformat": 4,
 "nbformat_minor": 2,
 "cells": [
  {
   "cell_type": "code",
   "execution_count": null,
   "metadata": {},
   "outputs": [],
   "source": [
    "from sklearn.model_selection import cross_val_score\n",
    "from sklearn.datasets import load_iris\n",
    "from sklearn.model_selection import train_test_split\n",
    "from sklearn.preprocessing import StandardScaler\n",
    "import numpy as np\n",
    "from sklearn.pipeline import Pipeline\n",
    "from sklearn.neighbors import KNeighborsClassifier\n",
    "from sklearn.metrics import accuracy_score\n",
    "\n",
    "iris = load_iris()\n",
    "X, y = iris.data[:,[1,2]], iris.target\n",
    "\n",
    "# hold out testing set\n",
    "X_train, X_test, y_train, y_test = train_test_split(X, y, test_size=0.3, random_state=1)"
   ]
  },
  {
   "cell_type": "code",
   "execution_count": null,
   "metadata": {
    "tags": []
   },
   "outputs": [],
   "source": [
    "best_k, best_score = -1, -1\n",
    "clfs = {}\n",
    "\n",
    "for k in [1, 15, 50]: # experiment different hyperparameter\n",
    "    pipe = Pipeline([['sc', StandardScaler()], ['clf', KNeighborsClassifier(n_neighbors=k)]])\n",
    "    pipe.fit(X_train, y_train)\n",
    "    # K-Fold CV\n",
    "    scores = cross_val_score(pipe, X_train, y_train, cv=5)\n",
    "    print('[%d-NN]\\nValidation accuracy: %.3f %s' % (k, scores.mean(), scores))\n",
    "    if scores.mean() > best_score:\n",
    "        best_k, best_score = k, scores.mean()\n",
    "    clfs[k] = pipe"
   ]
  },
  {
   "cell_type": "code",
   "execution_count": null,
   "metadata": {
    "tags": []
   },
   "outputs": [],
   "source": [
    "best_clf = clfs[best_k]\n",
    "best_clf.fit(X_train, y_train)\n",
    "\n",
    "# performance reporting\n",
    "y_pred = best_clf.predict(X_test)\n",
    "print('Test accuracy: %.2f (n_neighbors=%d selected by 5-fold CV)' % \n",
    "      (accuracy_score(y_test, y_pred), best_k))"
   ]
  },
  {
   "cell_type": "code",
   "execution_count": null,
   "metadata": {},
   "outputs": [],
   "source": []
  }
 ]
}