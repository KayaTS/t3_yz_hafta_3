{
 "metadata": {
  "language_info": {
   "codemirror_mode": {
    "name": "ipython",
    "version": 3
   },
   "file_extension": ".py",
   "mimetype": "text/x-python",
   "name": "python",
   "nbconvert_exporter": "python",
   "pygments_lexer": "ipython3",
   "version": "3.7.4-final"
  },
  "orig_nbformat": 2,
  "kernelspec": {
   "name": "python37464bitbasecondaad58ce277de14d7ab30b6ea4cdec04ba",
   "display_name": "Python 3.7.4 64-bit ('base': conda)"
  }
 },
 "nbformat": 4,
 "nbformat_minor": 2,
 "cells": [
  {
   "cell_type": "code",
   "execution_count": 1,
   "metadata": {},
   "outputs": [],
   "source": [
    "# csv dosyalarını okumak için\n",
    "import pandas as pd"
   ]
  },
  {
   "cell_type": "code",
   "execution_count": 3,
   "metadata": {},
   "outputs": [],
   "source": [
    "# csv dosyamızı okuduk.\n",
    "data = pd.read_csv('store.csv',header=None)"
   ]
  },
  {
   "cell_type": "code",
   "execution_count": 4,
   "metadata": {},
   "outputs": [],
   "source": [
    "# Veriyi [['MILK','Bread'] , ['TEA','JAM'], ...] şekline getirdik\n",
    "t = []\n",
    "for i in range(0,len(data)):\n",
    "    t.append(str(data.values[i][0]).split(\",\"))"
   ]
  },
  {
   "cell_type": "code",
   "execution_count": 5,
   "metadata": {},
   "outputs": [],
   "source": [
    "# apriori sınıfı import ettik\n",
    "from apyori import apriori"
   ]
  },
  {
   "cell_type": "code",
   "execution_count": 6,
   "metadata": {},
   "outputs": [],
   "source": [
    "# apriori sınıfından bir nesne tanımladık ve ilişki bulma işlemini başlattık.\n",
    "result = list(apriori(t,min_support=0.01,min_confidence=0.2,min_lift=3))"
   ]
  },
  {
   "cell_type": "code",
   "execution_count": 7,
   "metadata": {
    "tags": []
   },
   "outputs": [
    {
     "output_type": "stream",
     "name": "stdout",
     "text": "frozenset({'MAGGI', 'JAM'})\nfrozenset({'COCK', 'COFFEE', 'BISCUIT'})\nfrozenset({'COCK', 'CORNFLAKES', 'BISCUIT'})\nfrozenset({'CORNFLAKES', 'COFFEE', 'BISCUIT'})\nfrozenset({'MAGGI', 'BISCUIT', 'TEA'})\nfrozenset({'BOURNVITA', 'SUGER', 'COFFEE'})\nfrozenset({'CORNFLAKES', 'MILK', 'BREAD'})\nfrozenset({'MAGGI', 'JAM', 'BREAD'})\nfrozenset({'COCK', 'CORNFLAKES', 'COFFEE'})\nfrozenset({'CORNFLAKES', 'MILK', 'COFFEE'})\nfrozenset({'TEA', 'CORNFLAKES', 'COFFEE'})\nfrozenset({'TEA', 'MILK', 'COFFEE'})\nfrozenset({'TEA', 'CORNFLAKES', 'MILK'})\nfrozenset({'MAGGI', 'JAM', 'MILK'})\nfrozenset({'MAGGI', 'JAM', 'TEA'})\nfrozenset({'CORNFLAKES', 'MILK', 'BREAD', 'BISCUIT'})\nfrozenset({'MAGGI', 'BREAD', 'BISCUIT', 'TEA'})\nfrozenset({'COCK', 'CORNFLAKES', 'COFFEE', 'BISCUIT'})\nfrozenset({'MAGGI', 'JAM', 'MILK', 'BREAD'})\nfrozenset({'MAGGI', 'JAM', 'BREAD', 'TEA'})\nfrozenset({'TEA', 'CORNFLAKES', 'MILK', 'COFFEE'})\n"
    }
   ],
   "source": [
    "# Sonucu konsola bastık\n",
    "for i in range(0,len(result)):\n",
    "    print(result[i].items)"
   ]
  },
  {
   "cell_type": "code",
   "execution_count": null,
   "metadata": {},
   "outputs": [],
   "source": []
  }
 ]
}